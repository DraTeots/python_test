{
 "cells": [
  {
   "cell_type": "code",
   "execution_count": 4,
   "metadata": {},
   "outputs": [],
   "source": [
    "import math"
   ]
  },
  {
   "cell_type": "code",
   "execution_count": 15,
   "metadata": {},
   "outputs": [
    {
     "name": "stdout",
     "output_type": "stream",
     "text": [
      "Mew paw=1 tail=2\n",
      "Mew paw=4 tail=10\n"
     ]
    }
   ],
   "source": [
    "class Cat:\n",
    "    def say_name(self):\n",
    "        print(f\"Mew paw={self.paw} tail={self.tail}\")\n",
    "\n",
    "    def __init__(self, paw=4, tail=10):\n",
    "        self.paw = paw\n",
    "        self.tail = tail\n",
    "\n",
    "barsik = Cat(1, 2)\n",
    "barsik.say_name()\n",
    "\n",
    "matros = Cat()\n",
    "matros.say_name()\n"
   ]
  },
  {
   "cell_type": "code",
   "execution_count": 3,
   "metadata": {},
   "outputs": [],
   "source": [
    "# Есть массив\n",
    "arr = [1,2,3,4,5,6,7,8,9]\n",
    "\n",
    "# Разделить его на 2 так\n",
    "# 1 3 5 7 9\n",
    "# 2 4 6 8"
   ]
  },
  {
   "cell_type": "code",
   "execution_count": 4,
   "metadata": {},
   "outputs": [],
   "source": [
    "arr = [ 4, 5, 3, 2, 6, 7, 2, 5 ]\n",
    "# Найти сумму всех элементов больше 4\n",
    "# Т.е. тут 23"
   ]
  },
  {
   "cell_type": "code",
   "execution_count": 5,
   "metadata": {},
   "outputs": [],
   "source": [
    "# Вывести все числа меньше 100, которые делятся на 3 в обратном порядке\n",
    "# 99, 96, 93 ... 3"
   ]
  },
  {
   "cell_type": "code",
   "execution_count": 22,
   "metadata": {},
   "outputs": [
    {
     "name": "stdout",
     "output_type": "stream",
     "text": [
      "Mew paw=1 tail=5\n",
      "Mew paw=2 tail=6\n",
      "Mew paw=3 tail=7\n",
      "Mew paw=9 tail=9\n"
     ]
    }
   ],
   "source": [
    "paws = [1, 2, 3, 9]\n",
    "tails = [5, 6, 7, 9]\n",
    "\n",
    "# Создать массив кошек (Cats) куда слить вместе 2 массива\n",
    "# cats[0].Paw == 1, cats[0].Tail=5\n",
    "# cats[1].Paw == 2, cats[1].Tail=6\n",
    "\n",
    "# 1\n",
    "cats = []\n",
    "for i in range(len(paws)):\n",
    "    cats.append(Cat(paws[i], tails[i]))\n",
    "\n",
    "# 2\n",
    "cats = []\n",
    "for paw, tale in zip(paws, tails):\n",
    "    cats.append(Cat(paw, tale))\n",
    "\n",
    "# 3\n",
    "cats = [Cat(paw, tale) for paw, tale in zip(paws, tails)]"
   ]
  },
  {
   "cell_type": "code",
   "execution_count": 7,
   "metadata": {},
   "outputs": [],
   "source": [
    "cats = []\n",
    "cats.append(Cat(paw=1, tail=5))\n",
    "cats.append(Cat(paw=2, tail=6))\n",
    "cats.append(Cat(paw=3, tail=7))\n",
    "cats.append(Cat(paw=4, tail=8))\n",
    "\n",
    "# Наоборот получить\n",
    "# paws = [1, 2, 3, 4 ]\n",
    "# tails = [5, 6, 7, 8 ]"
   ]
  },
  {
   "cell_type": "code",
   "execution_count": 8,
   "metadata": {},
   "outputs": [],
   "source": [
    "arr = [1, 2, 3, 4, 5, 6, 7, 8, 9]\n",
    "\n",
    "# Преобразовать его в 2х мерный:\n",
    "#[[1, 2, 3],\n",
    "# [4, 5, 6],\n",
    "# [7, 8, 9]]"
   ]
  },
  {
   "cell_type": "code",
   "execution_count": 9,
   "metadata": {},
   "outputs": [],
   "source": [
    "# array intersection\n",
    "arr1 = [5, 2, 4, 4 ]\n",
    "arr2 = [1, 5, 4, 3 ]\n",
    "           \n",
    "# Найти пересечение массивов\n",
    "# 5, 4\n",
    "# Использовать Map или Set\n"
   ]
  },
  {
   "cell_type": "code",
   "execution_count": 10,
   "metadata": {},
   "outputs": [],
   "source": [
    "arr1 = [5, 2, 4, 4]\n",
    "arr2 = [1, 5, 4, 3]\n",
    "\n",
    "# Найти Уникальные элементы массивов\n",
    "# 1, 2, 3"
   ]
  },
  {
   "cell_type": "code",
   "execution_count": 11,
   "metadata": {},
   "outputs": [],
   "source": [
    "arr = [1, 2, 3, 4, 5, 6, 7, 8, 9]\n",
    "# Есть отсортированный массив, найти медиану\n",
    "# Усложнение. Должно работать с\n",
    "arr2 = [1, 2, 3, 4, 5, 6, 7, 8]"
   ]
  },
  {
   "cell_type": "code",
   "execution_count": 23,
   "metadata": {},
   "outputs": [
    {
     "ename": "SyntaxError",
     "evalue": "invalid syntax (Temp/ipykernel_25516/4013859609.py, line 6)",
     "output_type": "error",
     "traceback": [
      "\u001B[1;36m  File \u001B[1;32m\"C:\\Users\\romanov\\AppData\\Local\\Temp/ipykernel_25516/4013859609.py\"\u001B[1;36m, line \u001B[1;32m6\u001B[0m\n\u001B[1;33m    while i < len(arr) and ....:\u001B[0m\n\u001B[1;37m                               ^\u001B[0m\n\u001B[1;31mSyntaxError\u001B[0m\u001B[1;31m:\u001B[0m invalid syntax\n"
     ]
    }
   ],
   "source": [
    "# Косынка!\n",
    "arr = [1, 2, 3, 4, 5, 6, 7, 8, 9, 10, 11, 12, 13]\n",
    "\n",
    "i = 0\n",
    "# i < len(arr)\n",
    "\n",
    "\n",
    "# Преобразовать его в массив массивов:\n",
    "# [1]\n",
    "# [2, 3]\n",
    "# [4, 5, 6]\n",
    "# [7, 8, 9, 10]\n",
    "# [11, 12, 13]    <- тут что осталось"
   ]
  },
  {
   "cell_type": "code",
   "execution_count": 13,
   "metadata": {},
   "outputs": [],
   "source": [
    "arr = [1, 2, 3, 4, 5, 6, 7, 8]\n",
    "\n",
    "# Поменять местами каждые 2 элемента\n",
    "# arr = 2, 1, 4, 3, 6, 5, 8, 7\n",
    "# Усложнение, чтобы рабоатло с нечетным числом элементов так\n",
    "# arr = 2, 1, 4, 3, 6, 5, 8, 7, 9"
   ]
  },
  {
   "cell_type": "code",
   "execution_count": 14,
   "metadata": {},
   "outputs": [],
   "source": [
    "# Перемешать карты\n",
    "# \"Карта\" - это число от 1 до 6, но оно по одному разу в колоде\n",
    "# Раздать карты случайным образом. Например \n",
    "# [6, 5, 1, 2, 4, 3]\n",
    "# т.е. в массиве каждое число может встречаться только один раз"
   ]
  },
  {
   "cell_type": "code",
   "execution_count": 15,
   "metadata": {},
   "outputs": [],
   "source": [
    "arr = [5, 19, 13, 7, 1]\n",
    "# Перемешать эти числа в случайном порядке"
   ]
  },
  {
   "cell_type": "code",
   "execution_count": 16,
   "metadata": {},
   "outputs": [],
   "source": [
    "names =   [\"dog\", \"cat\", \"fox\", \"dog\", \"dog\", \"cat\"]\n",
    "values =  [ 5,     3,     2,     6,     4,     1   ]\n",
    "# Найти сумму values для каждого слова \"dog\" = 15, \"cat\" = 4, \"fox\"= ..."
   ]
  },
  {
   "cell_type": "code",
   "execution_count": 17,
   "metadata": {},
   "outputs": [],
   "source": [
    "arr = [5, 19, 13, 7, 1, 5, 13, 11, 3]\n",
    "# Отсортировать массив (самостоятельно придумать какой-нибудь алгоритм)\n"
   ]
  },
  {
   "cell_type": "code",
   "execution_count": 18,
   "metadata": {},
   "outputs": [],
   "source": [
    "names =  [\"dog\", \"cat\", \"fox\", \"rat\", \"dog\", \"cat\"]\n",
    "values = [ 5,     3,     2,     6,     4,     1   ]\n",
    "# Отсортировать имена в соответствии с цифрами в values\n",
    "# {\"cat\", \"fox\", \"cat\", \"dog\", \"dog\", \"rat\"}"
   ]
  },
  {
   "cell_type": "code",
   "execution_count": 19,
   "metadata": {},
   "outputs": [],
   "source": [
    "cats = []\n",
    "cats.append(Cat(paw=9, tail=100))\n",
    "cats.append(Cat(paw=2, tail=500))\n",
    "cats.append(Cat(paw=2, tail=300))\n",
    "cats.append(Cat(paw=4, tail=200))\n",
    "cats.append(Cat(paw=7, tail=150))\n",
    "cats.append(Cat(paw=1, tail=200))\n",
    "\n",
    "# Отсортировать кошек по лапам\n",
    "# Отсортировать кошек по хвостам\n",
    "# Пользоваться чем угодно - встроенными функциями, stackoverflow"
   ]
  },
  {
   "cell_type": "code",
   "execution_count": 20,
   "metadata": {},
   "outputs": [],
   "source": [
    "# Кодировка, раскодировка \n",
    "# Непонятное задание, но такая фигня везде используется в картинках, пикселах, байтстаффинг и т.д. \n",
    "\n",
    "# Есть 2-х мерный массив размером 3х3. В нем числа могут быть 0 и 1, например:\n",
    "# [[0 0 1],\n",
    "#  [1 0 0],\n",
    "#  [0 0 1]]\n",
    "\n",
    "# А в этом массиве закодировано, где в массиве 3х3 стоят 1\n",
    "arr = [1, 22, 10, 12]\n",
    "            \n",
    "# Каждое число в массиве arr, это где стоит 1 в массиве 3х3 \n",
    "# по следующему правилу: 10*строка + столбец\n",
    "# Например: 21 - строка индекс 2, колонка с индексом 1, т.е.\n",
    "# [1, 22, 10, 12] означает, что 3х3 выглядит так:\n",
    "# 0 1 0          потому что 1  - строка с индексом 0, колонка с индексом 1\n",
    "# 1 0 1          потому что 10 и 12 - строка с индексом 1, колонки с индексом 0 и 2\n",
    "# 0 0 1          потому что 22 - строка с индексом 2, колонка с индексом 2\n",
    "# Ну вот это надо программно записать"
   ]
  },
  {
   "cell_type": "code",
   "execution_count": 21,
   "metadata": {},
   "outputs": [],
   "source": [
    "# А теперь наоброт. Есть массив 3x3\n",
    "arr3x3 = [[0, 1, 0], \n",
    "          [1, 0, 1], \n",
    "          [0, 1, 0]]\n",
    "\n",
    "# Преобразовать в массив, где 10*строка + столбец, т.е. должно получиться\n",
    "# [1, 10, 12, 21]"
   ]
  }
 ],
 "metadata": {
  "interpreter": {
   "hash": "6f7c4d44365b28014734406e4d617c1e1f76ea196def854c7b951a230f6e24f1"
  },
  "kernelspec": {
   "display_name": "Python 3.9.5 64-bit",
   "language": "python",
   "name": "python3"
  },
  "language_info": {
   "codemirror_mode": {
    "name": "ipython",
    "version": 3
   },
   "file_extension": ".py",
   "mimetype": "text/x-python",
   "name": "python",
   "nbconvert_exporter": "python",
   "pygments_lexer": "ipython3",
   "version": "3.7.11"
  },
  "orig_nbformat": 4
 },
 "nbformat": 4,
 "nbformat_minor": 2
}