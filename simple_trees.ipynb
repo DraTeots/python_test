{
 "cells": [
  {
   "cell_type": "code",
   "execution_count": null,
   "metadata": {
    "collapsed": true,
    "pycharm": {
     "name": "#%%\n"
    }
   },
   "outputs": [],
   "source": [
    "class Node:\n",
    "    def __init__(self, name: str, value: any, nodes=[]):\n",
    "        self.name = name\n",
    "        self.value = value\n",
    "        self.children = nodes   # Это массив других Node"
   ]
  },
  {
   "cell_type": "code",
   "execution_count": null,
   "outputs": [],
   "source": [
    "# Задано дерево:\n",
    "dog_node =   Node(name = \"dog\", value = 5)\n",
    "frog_node =  Node(name = \"frog\", value = 2)\n",
    "cat_node =   Node(name = \"cat\", value = 3)\n",
    "bat_node =   Node(name = \"bat\", value = 1)\n",
    "horse_node = Node(name = \"horse\", value = 7)\n",
    "mouse_node = Node(name = \"mouse\", value = 9)\n",
    "\n",
    "dog_node.children.append(frog_node)\n",
    "frog_node.children.append(cat_node)\n",
    "frog_node.children.append(bat_node)\n",
    "bat_node.children.append(horse_node)\n",
    "dog_node.children.append(mouse_node)\n",
    "\n",
    "# i.e.\n",
    "# dog |\n",
    "#     |-- frog |\n",
    "#     |        |-- cat\n",
    "#     |        |-- bat |\n",
    "#     |                | -- horse\n",
    "#     |-- mouse"
   ],
   "metadata": {
    "collapsed": false,
    "pycharm": {
     "name": "#%%\n"
    }
   }
  },
  {
   "cell_type": "code",
   "execution_count": null,
   "outputs": [],
   "source": [
    "# Просуммировать элементы дерева\n",
    "# Т.е. найти сумму всех элементов дерева имея dogNode (сумма равна 27)\n",
    "# Т.е. Написать функцию sum_tree, такую, чтобы sum_tree(dog_node) посчитала сумму всех нод и выдала 27"
   ],
   "metadata": {
    "collapsed": false,
    "pycharm": {
     "name": "#%%\n"
    }
   }
  },
  {
   "cell_type": "code",
   "execution_count": null,
   "outputs": [],
   "source": [
    "# Заодно написать функции find_min, find_max, которые будут возвращать элемент дерева, с мин. и макс. value\n",
    "# find_min(dog_node) должно выдать bat_node тк.к. bat_node.value = 1\n",
    "# find_max(dog_node) должно выдать mouse_node тк.к. mouse_node.value = 9"
   ],
   "metadata": {
    "collapsed": false,
    "pycharm": {
     "name": "#%%\n"
    }
   }
  },
  {
   "cell_type": "code",
   "execution_count": null,
   "outputs": [],
   "source": [
    "# Написать функцию print_full_adress, которая распечатывает все адреса\n",
    "# в той иерархии, как задано выше\n",
    "# print_full_address(dog_node) должно напечатать типа:\n",
    "#\n",
    "# dog\n",
    "# dog.frog\n",
    "# dog.frog.cat\n",
    "# dog.frog.bat\n",
    "# dog.frog.bat.horse\n",
    "# dog.mouse"
   ],
   "metadata": {
    "collapsed": false,
    "pycharm": {
     "name": "#%%\n"
    }
   }
  },
  {
   "cell_type": "code",
   "execution_count": 8,
   "outputs": [],
   "source": [
    "# Сделать функцию build_dictionary, которая возвращает из дерева dict (т.е. {}) где ключ - полный адрес ноды, а значение - нода т.е.\n",
    "# nodes_by_name = build_dictionary(dog_node)\n",
    "# nodes_by_name[\"dog.frog.bat.horse\"] == horse_node"
   ],
   "metadata": {
    "collapsed": false,
    "pycharm": {
     "name": "#%%\n"
    }
   }
  },
  {
   "cell_type": "code",
   "execution_count": null,
   "outputs": [],
   "source": [
    "# Сделать функцию flatten_tree, которая превращает дерево в лист элементов (вообще, если использовать build_dictionary, то дальше это одна строка)"
   ],
   "metadata": {
    "collapsed": false,
    "pycharm": {
     "name": "#%%\n"
    }
   }
  },
  {
   "cell_type": "code",
   "execution_count": null,
   "outputs": [],
   "source": [
    "# Создать функцию create_tree, которая создает дерево исходя из полных путей типа\n",
    "# \"dog.frog.bat\",\n",
    "# \"dog.frog.cat\",\n",
    "# \"dog.frog.cat.rat\",\n",
    "# \"dog.horse\",\n",
    "# \"dog.grog\"\n",
    "#\n",
    "# dog_node = create_tree([\n",
    "#                \"dog.frog.bat\",\n",
    "#                \"dog.frog.cat\",\n",
    "#                \"dog.frog.cat.rat\",\n",
    "#                \"dog.horse\",\n",
    "#                \"dog.grog\"])\n"
   ],
   "metadata": {
    "collapsed": false,
    "pycharm": {
     "name": "#%%\n"
    }
   }
  },
  {
   "cell_type": "code",
   "execution_count": null,
   "outputs": [],
   "source": [
    "#  Усложнение\n",
    "#  \"dog.frog.bat\"\n",
    "#  \"dog.bat.cat\" - выдать ошибку тк.к. bat уже есть в frog"
   ],
   "metadata": {
    "collapsed": false,
    "pycharm": {
     "name": "#%%\n"
    }
   }
  }
 ],
 "metadata": {
  "kernelspec": {
   "display_name": "Python 3",
   "language": "python",
   "name": "python3"
  },
  "language_info": {
   "codemirror_mode": {
    "name": "ipython",
    "version": 2
   },
   "file_extension": ".py",
   "mimetype": "text/x-python",
   "name": "python",
   "nbconvert_exporter": "python",
   "pygments_lexer": "ipython2",
   "version": "2.7.6"
  }
 },
 "nbformat": 4,
 "nbformat_minor": 0
}